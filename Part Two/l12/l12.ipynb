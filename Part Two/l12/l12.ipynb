{
 "cells": [
  {
   "cell_type": "code",
   "execution_count": 2,
   "metadata": {},
   "outputs": [],
   "source": [
    "#1\n",
    "import numpy as np\n",
    "\n",
    "v = np.array([2., 2., 4.])\n"
   ]
  },
  {
   "cell_type": "code",
   "execution_count": 14,
   "metadata": {},
   "outputs": [
    {
     "name": "stdout",
     "output_type": "stream",
     "text": [
      "[[ 12 -18   2]\n",
      " [  8  48  16]]\n",
      "[[ 6 -9  1]\n",
      " [ 6 -9  1]]\n",
      "[ 1 11 21 31 41 51]\n",
      "[12 13]\n",
      "[[24 25]\n",
      " [34 35]]\n",
      "[[20 22 24]\n",
      " [40 42 44]]\n"
     ]
    }
   ],
   "source": [
    "#2\n",
    "\n",
    "a1 = np.array([[6, -9, 1], [4, 24, 8]])\n",
    "res = 2 * a1\n",
    "print(res)\n",
    "\n",
    "a2 = np.array([[1, 0], [1, 0]])\n",
    "res2 = a2@a1\n",
    "print(res2)\n",
    "\n",
    "a3 = np.array([list(range(i * 10, i * 10 + 6)) for i in range(6)])\n",
    "print(a3[:, 1])\n",
    "print(a3[1, 2:4])\n",
    "print(a3[2:4, 4:6])\n",
    "print(a3[2:5:2, 0:5:2])"
   ]
  },
  {
   "cell_type": "code",
   "execution_count": 6,
   "metadata": {},
   "outputs": [
    {
     "name": "stdout",
     "output_type": "stream",
     "text": [
      "[[2 1 3]\n",
      " [2 3 1]]\n"
     ]
    }
   ],
   "source": [
    "#4\n",
    "def swap_rows(M, a, b):\n",
    "    ls = [num for num in M[a]]\n",
    "    M[a] = M[b]\n",
    "    M[b] = ls\n",
    "\n",
    "def swap_cols(M, a, b):\n",
    "    ls = [M[i][a] for i in range(len(M))]\n",
    "    M[:, a] = M[:, b]\n",
    "    M[:, b] = ls\n",
    "\n",
    "a = np.array([[1, 2, 3], [3, 2, 1]])\n",
    "swap_cols(a, 0, 1)\n",
    "print(a)"
   ]
  },
  {
   "cell_type": "code",
   "execution_count": 13,
   "metadata": {},
   "outputs": [
    {
     "data": {
      "text/plain": [
       "array([[1., 2., 3.],\n",
       "       [4., 5., 6.]])"
      ]
     },
     "execution_count": 13,
     "metadata": {},
     "output_type": "execute_result"
    }
   ],
   "source": [
    "def set_array(L, rows, cols):\n",
    "    a = np.empty((rows, cols))\n",
    "    for i in range(rows):\n",
    "        a[i] = L[cols*i:cols*(i+1)]\n",
    "    return a\n",
    "\n",
    "a = set_array([1, 2, 3, 4, 5, 6], 2, 3)\n",
    "a"
   ]
  }
 ],
 "metadata": {
  "kernelspec": {
   "display_name": "venv",
   "language": "python",
   "name": "python3"
  },
  "language_info": {
   "codemirror_mode": {
    "name": "ipython",
    "version": 3
   },
   "file_extension": ".py",
   "mimetype": "text/x-python",
   "name": "python",
   "nbconvert_exporter": "python",
   "pygments_lexer": "ipython3",
   "version": "3.11.3"
  }
 },
 "nbformat": 4,
 "nbformat_minor": 2
}
